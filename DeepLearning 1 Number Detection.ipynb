{
 "cells": [
  {
   "cell_type": "code",
   "execution_count": 7,
   "metadata": {},
   "outputs": [
    {
     "name": "stdout",
     "output_type": "stream",
     "text": [
      "Epoch 1/50\n",
      "1875/1875 [==============================] - 2s 1ms/step - loss: 0.4612 - accuracy: 0.8740\n",
      "Epoch 2/50\n",
      "1875/1875 [==============================] - 2s 996us/step - loss: 0.1124 - accuracy: 0.9661\n",
      "Epoch 3/50\n",
      "1875/1875 [==============================] - 2s 884us/step - loss: 0.0751 - accuracy: 0.9766\n",
      "Epoch 4/50\n",
      "1875/1875 [==============================] - 2s 880us/step - loss: 0.0524 - accuracy: 0.9830\n",
      "Epoch 5/50\n",
      "1875/1875 [==============================] - 2s 881us/step - loss: 0.0367 - accuracy: 0.9882\n",
      "Epoch 6/50\n",
      "1875/1875 [==============================] - 2s 882us/step - loss: 0.0314 - accuracy: 0.9893\n",
      "Epoch 7/50\n",
      "1875/1875 [==============================] - 2s 879us/step - loss: 0.0242 - accuracy: 0.9918\n",
      "Epoch 8/50\n",
      "1875/1875 [==============================] - 2s 895us/step - loss: 0.0164 - accuracy: 0.9947\n",
      "Epoch 9/50\n",
      "1875/1875 [==============================] - 2s 900us/step - loss: 0.0184 - accuracy: 0.9937\n",
      "Epoch 10/50\n",
      "1875/1875 [==============================] - 2s 877us/step - loss: 0.0149 - accuracy: 0.9950\n",
      "Epoch 11/50\n",
      "1875/1875 [==============================] - 2s 870us/step - loss: 0.0125 - accuracy: 0.9956\n",
      "Epoch 12/50\n",
      "1875/1875 [==============================] - 2s 881us/step - loss: 0.0087 - accuracy: 0.9969\n",
      "Epoch 13/50\n",
      "1875/1875 [==============================] - 2s 870us/step - loss: 0.0095 - accuracy: 0.9965\n",
      "Epoch 14/50\n",
      "1875/1875 [==============================] - 2s 881us/step - loss: 0.0095 - accuracy: 0.9968\n",
      "Epoch 15/50\n",
      "1875/1875 [==============================] - 2s 882us/step - loss: 0.0101 - accuracy: 0.9967\n",
      "Epoch 16/50\n",
      "1875/1875 [==============================] - 2s 875us/step - loss: 0.0058 - accuracy: 0.9982\n",
      "Epoch 17/50\n",
      "1875/1875 [==============================] - 2s 884us/step - loss: 0.0089 - accuracy: 0.9968\n",
      "Epoch 18/50\n",
      "1875/1875 [==============================] - 2s 888us/step - loss: 0.0066 - accuracy: 0.9977\n",
      "Epoch 19/50\n",
      "1875/1875 [==============================] - 2s 888us/step - loss: 0.0069 - accuracy: 0.9976\n",
      "Epoch 20/50\n",
      "1875/1875 [==============================] - 2s 882us/step - loss: 0.0065 - accuracy: 0.9978\n",
      "Epoch 21/50\n",
      "1875/1875 [==============================] - 2s 885us/step - loss: 0.0063 - accuracy: 0.9978\n",
      "Epoch 22/50\n",
      "1875/1875 [==============================] - 2s 893us/step - loss: 0.0064 - accuracy: 0.9979\n",
      "Epoch 23/50\n",
      "1875/1875 [==============================] - 2s 888us/step - loss: 0.0052 - accuracy: 0.9983\n",
      "Epoch 24/50\n",
      "1875/1875 [==============================] - 2s 892us/step - loss: 0.0067 - accuracy: 0.9981\n",
      "Epoch 25/50\n",
      "1875/1875 [==============================] - 2s 900us/step - loss: 0.0041 - accuracy: 0.9986\n",
      "Epoch 26/50\n",
      "1875/1875 [==============================] - 2s 885us/step - loss: 0.0069 - accuracy: 0.9974\n",
      "Epoch 27/50\n",
      "1875/1875 [==============================] - 2s 883us/step - loss: 0.0036 - accuracy: 0.9987\n",
      "Epoch 28/50\n",
      "1875/1875 [==============================] - 2s 887us/step - loss: 0.0065 - accuracy: 0.9981\n",
      "Epoch 29/50\n",
      "1875/1875 [==============================] - 2s 903us/step - loss: 0.0054 - accuracy: 0.9987\n",
      "Epoch 30/50\n",
      "1875/1875 [==============================] - 2s 879us/step - loss: 0.0070 - accuracy: 0.9979\n",
      "Epoch 31/50\n",
      "1875/1875 [==============================] - 2s 878us/step - loss: 0.0029 - accuracy: 0.9990\n",
      "Epoch 32/50\n",
      "1875/1875 [==============================] - 2s 881us/step - loss: 0.0055 - accuracy: 0.9985\n",
      "Epoch 33/50\n",
      "1875/1875 [==============================] - 2s 882us/step - loss: 0.0036 - accuracy: 0.9988\n",
      "Epoch 34/50\n",
      "1875/1875 [==============================] - 2s 886us/step - loss: 0.0056 - accuracy: 0.9981\n",
      "Epoch 35/50\n",
      "1875/1875 [==============================] - 2s 893us/step - loss: 0.0039 - accuracy: 0.9988\n",
      "Epoch 36/50\n",
      "1875/1875 [==============================] - 2s 880us/step - loss: 0.0066 - accuracy: 0.9983\n",
      "Epoch 37/50\n",
      "1875/1875 [==============================] - 2s 883us/step - loss: 0.0031 - accuracy: 0.9989\n",
      "Epoch 38/50\n",
      "1875/1875 [==============================] - 2s 888us/step - loss: 0.0075 - accuracy: 0.9978\n",
      "Epoch 39/50\n",
      "1875/1875 [==============================] - 2s 892us/step - loss: 0.0039 - accuracy: 0.9988\n",
      "Epoch 40/50\n",
      "1875/1875 [==============================] - 2s 892us/step - loss: 0.0036 - accuracy: 0.9988\n",
      "Epoch 41/50\n",
      "1875/1875 [==============================] - 2s 897us/step - loss: 0.0064 - accuracy: 0.9982\n",
      "Epoch 42/50\n",
      "1875/1875 [==============================] - 2s 888us/step - loss: 0.0032 - accuracy: 0.9991\n",
      "Epoch 43/50\n",
      "1875/1875 [==============================] - 2s 880us/step - loss: 0.0045 - accuracy: 0.9986\n",
      "Epoch 44/50\n",
      "1875/1875 [==============================] - 2s 915us/step - loss: 0.0033 - accuracy: 0.9989\n",
      "Epoch 45/50\n",
      "1875/1875 [==============================] - 2s 1ms/step - loss: 0.0033 - accuracy: 0.9989\n",
      "Epoch 46/50\n",
      "1875/1875 [==============================] - 2s 925us/step - loss: 0.0027 - accuracy: 0.9990\n",
      "Epoch 47/50\n",
      "1875/1875 [==============================] - 2s 875us/step - loss: 0.0025 - accuracy: 0.9993\n",
      "Epoch 48/50\n",
      "1875/1875 [==============================] - 2s 878us/step - loss: 0.0061 - accuracy: 0.9984\n",
      "Epoch 49/50\n",
      "1875/1875 [==============================] - 2s 897us/step - loss: 0.0026 - accuracy: 0.9991\n",
      "Epoch 50/50\n",
      "1875/1875 [==============================] - 2s 1ms/step - loss: 0.0025 - accuracy: 0.9992\n"
     ]
    },
    {
     "data": {
      "text/plain": [
       "<tensorflow.python.keras.callbacks.History at 0x17bac5867c0>"
      ]
     },
     "execution_count": 7,
     "metadata": {},
     "output_type": "execute_result"
    }
   ],
   "source": [
    "import tensorflow as tf\n",
    "\n",
    "mnist = tf.keras.datasets.mnist\n",
    "\n",
    "(x_train, y_train),(x_test, y_test) = mnist.load_data()\n",
    "x_train = tf.keras.utils.normalize(x_train, axis=1)\n",
    "x_test = tf.keras.utils.normalize(x_test, axis=1)\n",
    "\n",
    "model = tf.keras.models.Sequential()\n",
    "model.add(tf.keras.layers.Flatten())\n",
    "model.add(tf.keras.layers.Dense(128,activation=tf.nn.relu))\n",
    "model.add(tf.keras.layers.Dense(128,activation=tf.nn.relu))\n",
    "model.add(tf.keras.layers.Dense(10,activation=tf.nn.softmax))\n",
    "\n",
    "model.compile(optimizer='adam',      \n",
    "             loss='sparse_categorical_crossentropy',\n",
    "             metrics=['accuracy'])\n",
    "\n",
    "model.fit(x_train, y_train, epochs=50)"
   ]
  },
  {
   "cell_type": "code",
   "execution_count": 2,
   "metadata": {},
   "outputs": [
    {
     "name": "stdout",
     "output_type": "stream",
     "text": [
      "313/313 [==============================] - 1s 1ms/step - loss: 0.0998 - accuracy: 0.9708\n",
      "0.09982422739267349 0.97079998254776\n"
     ]
    }
   ],
   "source": [
    "val_loss,val_accuracy = model.evaluate(x_test,y_test)\n",
    "print(val_loss,val_accuracy)"
   ]
  },
  {
   "cell_type": "code",
   "execution_count": 2,
   "metadata": {},
   "outputs": [
    {
     "data": {
      "image/png": "[encoded data removed]",
      "text/plain": [
       "<Figure size 432x288 with 1 Axes>"
      ]
     },
     "metadata": {
      "needs_background": "light"
     },
     "output_type": "display_data"
    }
   ],
   "source": [
    "import matplotlib.pyplot as plt\n",
    "\n",
    "plt.imshow(x_train[0] , cmap = plt.cm.binary)\n",
    "plt.show()"
   ]
  },
  {
   "cell_type": "code",
   "execution_count": 4,
   "metadata": {},
   "outputs": [
    {
     "name": "stdout",
     "output_type": "stream",
     "text": [
      "INFO:tensorflow:Assets written to: epic_num_reader_model\\assets\n"
     ]
    }
   ],
   "source": [
    "model.save('epic_num_reader_model')\n"
   ]
  },
  {
   "cell_type": "code",
   "execution_count": 5,
   "metadata": {},
   "outputs": [],
   "source": [
    "new_model = tf.keras.models.load_model('epic_num_reader_model')"
   ]
  },
  {
   "cell_type": "code",
   "execution_count": 6,
   "metadata": {},
   "outputs": [],
   "source": [
    "predictions = new_model.predict([x_test])"
   ]
  },
  {
   "cell_type": "code",
   "execution_count": 7,
   "metadata": {},
   "outputs": [
    {
     "name": "stdout",
     "output_type": "stream",
     "text": [
      "[[5.6465672e-09 2.0640659e-06 2.2884888e-05 ... 9.9983788e-01\n",
      "  3.8313678e-07 5.3580476e-07]\n",
      " [1.2259534e-08 1.3076625e-03 9.9868375e-01 ... 7.6490958e-10\n",
      "  8.6289500e-09 9.2680683e-11]\n",
      " [4.4444639e-07 9.9869412e-01 1.7977846e-04 ... 4.5392822e-05\n",
      "  7.9145125e-04 4.1243597e-06]\n",
      " ...\n",
      " [5.1489396e-10 4.9111435e-08 3.1730266e-08 ... 9.0600488e-06\n",
      "  5.5332947e-07 1.1064161e-05]\n",
      " [2.9601820e-06 4.6091377e-06 2.3931315e-07 ... 1.2472449e-07\n",
      "  1.3957436e-04 5.2854148e-08]\n",
      " [1.7024516e-06 1.7248275e-06 1.1731440e-04 ... 6.7488872e-09\n",
      "  2.2067919e-05 1.7918083e-08]]\n"
     ]
    }
   ],
   "source": [
    "print(predictions)"
   ]
  },
  {
   "cell_type": "code",
   "execution_count": 13,
   "metadata": {},
   "outputs": [
    {
     "name": "stdout",
     "output_type": "stream",
     "text": [
      "5\n"
     ]
    }
   ],
   "source": [
    "import numpy as np\n",
    "print(np.argmax(predictions[15]))"
   ]
  },
  {
   "cell_type": "code",
   "execution_count": 14,
   "metadata": {},
   "outputs": [
    {
     "data": {
      "image/png": "[encoded data removed]",
      "text/plain": [
       "<Figure size 432x288 with 1 Axes>"
      ]
     },
     "metadata": {
      "needs_background": "light"
     },
     "output_type": "display_data"
    }
   ],
   "source": [
    "plt.imshow(x_test[15])\n",
    "plt.show()"
   ]
  },
  {
   "cell_type": "code",
   "execution_count": null,
   "metadata": {},
   "outputs": [],
   "source": []
  }
 ],
 "metadata": {
  "kernelspec": {
   "display_name": "Python 3",
   "language": "python",
   "name": "python3"
  },
  "language_info": {
   "codemirror_mode": {
    "name": "ipython",
    "version": 3
   },
   "file_extension": ".py",
   "mimetype": "text/x-python",
   "name": "python",
   "nbconvert_exporter": "python",
   "pygments_lexer": "ipython3",
   "version": "3.8.3"
  }
 },
 "nbformat": 4,
 "nbformat_minor": 4
}
